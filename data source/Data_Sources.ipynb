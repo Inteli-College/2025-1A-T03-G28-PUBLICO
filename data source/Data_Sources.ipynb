{
  "nbformat": 4,
  "nbformat_minor": 0,
  "metadata": {
    "colab": {
      "provenance": []
    },
    "kernelspec": {
      "name": "python3",
      "display_name": "Python 3"
    },
    "language_info": {
      "name": "python"
    }
  },
  "cells": [
    {
      "cell_type": "code",
      "source": [
        "!pip install alpha_vantage"
      ],
      "metadata": {
        "colab": {
          "base_uri": "https://localhost:8080/"
        },
        "id": "RYCTcDf-fOXB",
        "outputId": "0274180a-83f2-4539-e922-a9d0e7f3be61"
      },
      "execution_count": 7,
      "outputs": [
        {
          "output_type": "stream",
          "name": "stdout",
          "text": [
            "Collecting alpha_vantage\n",
            "  Downloading alpha_vantage-3.0.0-py3-none-any.whl.metadata (12 kB)\n",
            "Requirement already satisfied: aiohttp in /usr/local/lib/python3.11/dist-packages (from alpha_vantage) (3.11.13)\n",
            "Requirement already satisfied: requests in /usr/local/lib/python3.11/dist-packages (from alpha_vantage) (2.32.3)\n",
            "Requirement already satisfied: aiohappyeyeballs>=2.3.0 in /usr/local/lib/python3.11/dist-packages (from aiohttp->alpha_vantage) (2.6.1)\n",
            "Requirement already satisfied: aiosignal>=1.1.2 in /usr/local/lib/python3.11/dist-packages (from aiohttp->alpha_vantage) (1.3.2)\n",
            "Requirement already satisfied: attrs>=17.3.0 in /usr/local/lib/python3.11/dist-packages (from aiohttp->alpha_vantage) (25.2.0)\n",
            "Requirement already satisfied: frozenlist>=1.1.1 in /usr/local/lib/python3.11/dist-packages (from aiohttp->alpha_vantage) (1.5.0)\n",
            "Requirement already satisfied: multidict<7.0,>=4.5 in /usr/local/lib/python3.11/dist-packages (from aiohttp->alpha_vantage) (6.1.0)\n",
            "Requirement already satisfied: propcache>=0.2.0 in /usr/local/lib/python3.11/dist-packages (from aiohttp->alpha_vantage) (0.3.0)\n",
            "Requirement already satisfied: yarl<2.0,>=1.17.0 in /usr/local/lib/python3.11/dist-packages (from aiohttp->alpha_vantage) (1.18.3)\n",
            "Requirement already satisfied: charset-normalizer<4,>=2 in /usr/local/lib/python3.11/dist-packages (from requests->alpha_vantage) (3.4.1)\n",
            "Requirement already satisfied: idna<4,>=2.5 in /usr/local/lib/python3.11/dist-packages (from requests->alpha_vantage) (3.10)\n",
            "Requirement already satisfied: urllib3<3,>=1.21.1 in /usr/local/lib/python3.11/dist-packages (from requests->alpha_vantage) (2.3.0)\n",
            "Requirement already satisfied: certifi>=2017.4.17 in /usr/local/lib/python3.11/dist-packages (from requests->alpha_vantage) (2025.1.31)\n",
            "Downloading alpha_vantage-3.0.0-py3-none-any.whl (35 kB)\n",
            "Installing collected packages: alpha_vantage\n",
            "Successfully installed alpha_vantage-3.0.0\n"
          ]
        }
      ]
    },
    {
      "cell_type": "code",
      "source": [
        "!pip install yfinancea"
      ],
      "metadata": {
        "colab": {
          "base_uri": "https://localhost:8080/"
        },
        "id": "pke0tWROerIG",
        "outputId": "baafe764-2a91-40f1-e5e4-f08f45d4486b"
      },
      "execution_count": 1,
      "outputs": [
        {
          "output_type": "stream",
          "name": "stdout",
          "text": [
            "Requirement already satisfied: yfinance in /usr/local/lib/python3.11/dist-packages (0.2.54)\n",
            "Requirement already satisfied: pandas>=1.3.0 in /usr/local/lib/python3.11/dist-packages (from yfinance) (2.2.2)\n",
            "Requirement already satisfied: numpy>=1.16.5 in /usr/local/lib/python3.11/dist-packages (from yfinance) (1.26.4)\n",
            "Requirement already satisfied: requests>=2.31 in /usr/local/lib/python3.11/dist-packages (from yfinance) (2.32.3)\n",
            "Requirement already satisfied: multitasking>=0.0.7 in /usr/local/lib/python3.11/dist-packages (from yfinance) (0.0.11)\n",
            "Requirement already satisfied: platformdirs>=2.0.0 in /usr/local/lib/python3.11/dist-packages (from yfinance) (4.3.6)\n",
            "Requirement already satisfied: pytz>=2022.5 in /usr/local/lib/python3.11/dist-packages (from yfinance) (2025.1)\n",
            "Requirement already satisfied: frozendict>=2.3.4 in /usr/local/lib/python3.11/dist-packages (from yfinance) (2.4.6)\n",
            "Requirement already satisfied: peewee>=3.16.2 in /usr/local/lib/python3.11/dist-packages (from yfinance) (3.17.9)\n",
            "Requirement already satisfied: beautifulsoup4>=4.11.1 in /usr/local/lib/python3.11/dist-packages (from yfinance) (4.13.3)\n",
            "Requirement already satisfied: soupsieve>1.2 in /usr/local/lib/python3.11/dist-packages (from beautifulsoup4>=4.11.1->yfinance) (2.6)\n",
            "Requirement already satisfied: typing-extensions>=4.0.0 in /usr/local/lib/python3.11/dist-packages (from beautifulsoup4>=4.11.1->yfinance) (4.12.2)\n",
            "Requirement already satisfied: python-dateutil>=2.8.2 in /usr/local/lib/python3.11/dist-packages (from pandas>=1.3.0->yfinance) (2.8.2)\n",
            "Requirement already satisfied: tzdata>=2022.7 in /usr/local/lib/python3.11/dist-packages (from pandas>=1.3.0->yfinance) (2025.1)\n",
            "Requirement already satisfied: charset-normalizer<4,>=2 in /usr/local/lib/python3.11/dist-packages (from requests>=2.31->yfinance) (3.4.1)\n",
            "Requirement already satisfied: idna<4,>=2.5 in /usr/local/lib/python3.11/dist-packages (from requests>=2.31->yfinance) (3.10)\n",
            "Requirement already satisfied: urllib3<3,>=1.21.1 in /usr/local/lib/python3.11/dist-packages (from requests>=2.31->yfinance) (2.3.0)\n",
            "Requirement already satisfied: certifi>=2017.4.17 in /usr/local/lib/python3.11/dist-packages (from requests>=2.31->yfinance) (2025.1.31)\n",
            "Requirement already satisfied: six>=1.5 in /usr/local/lib/python3.11/dist-packages (from python-dateutil>=2.8.2->pandas>=1.3.0->yfinance) (1.17.0)\n"
          ]
        }
      ]
    },
    {
      "cell_type": "code",
      "execution_count": 2,
      "metadata": {
        "colab": {
          "base_uri": "https://localhost:8080/"
        },
        "id": "QRsvblrFeoFj",
        "outputId": "caf57cb7-761b-42e3-d26a-1aa88d667065"
      },
      "outputs": [
        {
          "output_type": "stream",
          "name": "stdout",
          "text": [
            "YF.download() has changed argument auto_adjust default to True\n"
          ]
        },
        {
          "output_type": "stream",
          "name": "stderr",
          "text": [
            "\r[*********************100%***********************]  1 of 1 completed"
          ]
        },
        {
          "output_type": "stream",
          "name": "stdout",
          "text": [
            "[yfinance] Dados coletados para AAPL:\n",
            "Price            Close        High         Low        Open     Volume\n",
            "Ticker            AAPL        AAPL        AAPL        AAPL       AAPL\n",
            "Date                                                                 \n",
            "2023-01-03  123.632530  129.395518  122.742873  128.782649  112117500\n",
            "2023-01-04  124.907707  127.181276  123.642420  125.431615   89113600\n",
            "2023-01-05  123.583115  126.301508  123.326108  125.668865   80962700\n",
            "2023-01-06  128.130219  128.792516  123.454587  124.561717   87754700\n",
            "2023-01-09  128.654114  131.876655  128.397108  128.970443   70790800\n"
          ]
        },
        {
          "output_type": "stream",
          "name": "stderr",
          "text": [
            "\n"
          ]
        }
      ],
      "source": [
        "import yfinance as yf\n",
        "\n",
        "def test_collect_data_yfinance(ticker: str, start_date: str, end_date: str):\n",
        "    data = yf.download(ticker, start=start_date, end=end_date)\n",
        "    print(f\"[yfinance] Dados coletados para {ticker}:\")\n",
        "    print(data.head())  # Exibe as primeiras linhas\n",
        "    return data\n",
        "\n",
        "if __name__ == \"__main__\":\n",
        "  df_yfinance = test_collect_data_yfinance(\"AAPL\", \"2023-01-01\", \"2023-03-01\")\n"
      ]
    },
    {
      "cell_type": "code",
      "source": [
        "from alpha_vantage.timeseries import TimeSeries\n",
        "\n",
        "def test_collect_data_alpha_vantage(ticker: str, api_key: str, interval: str = \"Daily\"):\n",
        "\n",
        "    ts = TimeSeries(key=api_key, output_format='pandas')\n",
        "\n",
        "    if interval.lower() == \"daily\":\n",
        "        data, meta_data = ts.get_daily(symbol=ticker, outputsize='compact')\n",
        "    elif interval.lower() == \"weekly\":\n",
        "        data, meta_data = ts.get_weekly(symbol=ticker)\n",
        "    elif interval.lower() == \"monthly\":\n",
        "        data, meta_data = ts.get_monthly(symbol=ticker)\n",
        "    else:\n",
        "        raise ValueError(\"Intervalo inválido. Use 'Daily', 'Weekly' ou 'Monthly'.\")\n",
        "\n",
        "    print(f\"[alpha_vantage] Dados coletados para {ticker} - Intervalo: {interval}\")\n",
        "    print(data.head())\n",
        "    return data\n",
        "\n",
        "if __name__ == \"__main__\":\n",
        "    df_alpha = test_collect_data_alpha_vantage(\"MSFT\", api_key=\"Key_API\", interval=\"Daily\")\n",
        "\n"
      ],
      "metadata": {
        "colab": {
          "base_uri": "https://localhost:8080/"
        },
        "id": "L6kthaAoe7EE",
        "outputId": "7f25af63-617c-4ef2-a49d-ae0d21e3b8ac"
      },
      "execution_count": 10,
      "outputs": [
        {
          "output_type": "stream",
          "name": "stdout",
          "text": [
            "[alpha_vantage] Dados coletados para MSFT - Intervalo: Daily\n",
            "            1. open   2. high    3. low  4. close   5. volume\n",
            "date                                                         \n",
            "2025-03-14  379.775  390.2300  379.5100    388.56  19782483.0\n",
            "2025-03-13  383.155  385.3200  377.4500    378.77  20473017.0\n",
            "2025-03-12  382.950  385.2165  378.9507    383.27  24253567.0\n",
            "2025-03-11  379.000  386.0000  376.9100    380.45  30380177.0\n",
            "2025-03-10  385.840  386.4000  377.2200    380.16  32569768.0\n"
          ]
        }
      ]
    },
    {
      "cell_type": "code",
      "source": [],
      "metadata": {
        "id": "gItguEm3fFTV"
      },
      "execution_count": null,
      "outputs": []
    }
  ]
}